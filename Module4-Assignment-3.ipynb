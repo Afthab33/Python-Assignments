{
 "cells": [
  {
   "cell_type": "markdown",
   "metadata": {},
   "source": [
    "#1. Write a Python program to read an entire text file."
   ]
  },
  {
   "cell_type": "code",
   "execution_count": 44,
   "metadata": {},
   "outputs": [
    {
     "name": "stdout",
     "output_type": "stream",
     "text": [
      "This is a First line\n",
      "This is a Second line\n",
      "This is a Third line\n"
     ]
    }
   ],
   "source": [
    "myfile=open(r\"C:\\Users\\aftha\\Desktop\\myfile\\text.txt\")\n",
    "print(myfile.read())\n",
    "myfile.close()"
   ]
  },
  {
   "cell_type": "markdown",
   "metadata": {},
   "source": [
    "#2. Write a Python program to read first n lines of a file"
   ]
  },
  {
   "cell_type": "code",
   "execution_count": 45,
   "metadata": {},
   "outputs": [
    {
     "name": "stdout",
     "output_type": "stream",
     "text": [
      "Enter the number of lines to read2\n",
      "This is a First line\n",
      "\n",
      "This is a Second line\n",
      "\n"
     ]
    }
   ],
   "source": [
    "myfile=open(r\"C:\\Users\\aftha\\Desktop\\myfile\\text.txt\")\n",
    "n=int(input(\"Enter the number of lines to read\"))\n",
    "for i in range(n):\n",
    "    print(myfile.readline())\n",
    "myfile.close()"
   ]
  },
  {
   "cell_type": "markdown",
   "metadata": {},
   "source": [
    "#3. Write a Python program to append text to a file and display the text. "
   ]
  },
  {
   "cell_type": "code",
   "execution_count": 53,
   "metadata": {},
   "outputs": [
    {
     "name": "stdout",
     "output_type": "stream",
     "text": [
      "This is a First line\n",
      "This is a Second line\n",
      "This is a Third line\n",
      "This is a Fourth line\n",
      "This is a Fifth line\n"
     ]
    }
   ],
   "source": [
    "myfile=open(r\"C:\\Users\\aftha\\Desktop\\myfile\\text.txt\",\"a+\")\n",
    "myfile.write(\"\\nThis is a Fourth line\")\n",
    "myfile.write(\"\\nThis is a Fifth line\")\n",
    "myfile.seek(0)\n",
    "print(myfile.read())\n",
    "myfile.close()"
   ]
  },
  {
   "cell_type": "markdown",
   "metadata": {},
   "source": [
    "#4.Write a Python program to read last n lines of a file"
   ]
  },
  {
   "cell_type": "code",
   "execution_count": 55,
   "metadata": {},
   "outputs": [
    {
     "name": "stdout",
     "output_type": "stream",
     "text": [
      "Enter the last n lines to be read3\n",
      "['This is a Third line\\n', 'This is a Fourth line\\n', 'This is a Fifth line']\n"
     ]
    }
   ],
   "source": [
    "myfile=open(r\"C:\\Users\\aftha\\Desktop\\myfile\\text.txt\")\n",
    "l1=myfile.readlines()\n",
    "m=len(l1)\n",
    "n=int(input(\"Enter the last n lines to be read\"))\n",
    "print(l1[(m-n):])\n",
    "myfile.close()"
   ]
  },
  {
   "cell_type": "markdown",
   "metadata": {},
   "source": [
    "#5.Write a Python program to read a file line by line store it into a variable. "
   ]
  },
  {
   "cell_type": "code",
   "execution_count": 9,
   "metadata": {},
   "outputs": [
    {
     "name": "stdout",
     "output_type": "stream",
     "text": [
      "This is a First line\n",
      "This is a Second line\n",
      "This is a Third line\n"
     ]
    }
   ],
   "source": [
    "myfile=open(r\"C:\\Users\\aftha\\Desktop\\myfile\\text.txt\")\n",
    "str=\"\"\n",
    "for i in myfile.readlines():\n",
    "    str=str+i\n",
    "print(str)"
   ]
  },
  {
   "cell_type": "markdown",
   "metadata": {},
   "source": [
    "#6.Write a Python program to read a file line by line and store it into a list. "
   ]
  },
  {
   "cell_type": "code",
   "execution_count": 11,
   "metadata": {},
   "outputs": [
    {
     "name": "stdout",
     "output_type": "stream",
     "text": [
      "['This is a First line\\n', 'This is a Second line\\n', 'This is a Third line']\n"
     ]
    }
   ],
   "source": [
    "myfile=open(r\"C:\\Users\\aftha\\Desktop\\myfile\\text.txt\")\n",
    "list=[]\n",
    "for i in myfile.readlines():\n",
    "    list.append(i)\n",
    "print(list)\n",
    "myfile.close()"
   ]
  },
  {
   "cell_type": "markdown",
   "metadata": {},
   "source": [
    "#8.Write a Python program to count the number of lines in a text file. "
   ]
  },
  {
   "cell_type": "code",
   "execution_count": 24,
   "metadata": {},
   "outputs": [
    {
     "name": "stdout",
     "output_type": "stream",
     "text": [
      "5\n"
     ]
    }
   ],
   "source": [
    "myfile=open(r\"C:\\Users\\aftha\\Desktop\\myfile\\text.txt\")\n",
    "a=myfile.readlines()\n",
    "b=len(a)\n",
    "print(b)\n",
    "myfile.close()"
   ]
  },
  {
   "cell_type": "markdown",
   "metadata": {},
   "source": [
    "#9.Write a Python program to get the file size of a plain file."
   ]
  },
  {
   "cell_type": "code",
   "execution_count": 25,
   "metadata": {},
   "outputs": [
    {
     "name": "stdout",
     "output_type": "stream",
     "text": [
      "\n",
      "The size of abc.txt is : 110 Bytes\n"
     ]
    }
   ],
   "source": [
    "import os\n",
    "fsize = os.path.getsize(r\"C:\\Users\\aftha\\Desktop\\myfile\\text.txt\")\n",
    "print(\"\\nThe size of abc.txt is :\",fsize,\"Bytes\")\n",
    "myfile.close()"
   ]
  },
  {
   "cell_type": "markdown",
   "metadata": {},
   "source": [
    "#10.Write a Python program to copy the contents of a file to another file ."
   ]
  },
  {
   "cell_type": "code",
   "execution_count": 29,
   "metadata": {},
   "outputs": [
    {
     "name": "stdout",
     "output_type": "stream",
     "text": [
      "This is a First line\n",
      "This is a Second line\n",
      "This is a Third line\n",
      "This is a Fourth line\n",
      "This is a Fifth line\n"
     ]
    }
   ],
   "source": [
    "with open(r\"C:\\Users\\aftha\\Desktop\\myfile\\text.txt\",\"r\") as myfile2:\n",
    "    contents=myfile2.read()\n",
    "print(contents)\n",
    "myfile.close()"
   ]
  }
 ],
 "metadata": {
  "kernelspec": {
   "display_name": "Python 3",
   "language": "python",
   "name": "python3"
  },
  "language_info": {
   "codemirror_mode": {
    "name": "ipython",
    "version": 3
   },
   "file_extension": ".py",
   "mimetype": "text/x-python",
   "name": "python",
   "nbconvert_exporter": "python",
   "pygments_lexer": "ipython3",
   "version": "3.7.6"
  }
 },
 "nbformat": 4,
 "nbformat_minor": 4
}
