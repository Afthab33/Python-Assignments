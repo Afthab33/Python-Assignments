{
 "cells": [
  {
   "cell_type": "markdown",
   "metadata": {},
   "source": [
    "#1.Write a Python program to calculate the length of a string."
   ]
  },
  {
   "cell_type": "code",
   "execution_count": 2,
   "metadata": {},
   "outputs": [
    {
     "name": "stdout",
     "output_type": "stream",
     "text": [
      "Enter the string Afthab\n",
      "Length of the string is 6\n"
     ]
    }
   ],
   "source": [
    "a=str(input(\"Enter the string \"))\n",
    "print(\"Length of the string is\",len(a))"
   ]
  },
  {
   "cell_type": "markdown",
   "metadata": {},
   "source": [
    "#2.Write a Python program to count the number of characters (character frequency) in a string."
   ]
  },
  {
   "cell_type": "code",
   "execution_count": 5,
   "metadata": {},
   "outputs": [
    {
     "name": "stdout",
     "output_type": "stream",
     "text": [
      "Enter the String:Afthab Hussain\n",
      "Per char frequency in 'Afthab Hussain' is :\n",
      " {'A': 1, 'f': 1, 't': 1, 'h': 1, 'a': 2, 'b': 1, ' ': 1, 'H': 1, 'u': 1, 's': 2, 'i': 1, 'n': 1}\n"
     ]
    }
   ],
   "source": [
    "i = str(input(\"Enter the String:\"))\n",
    "f= {} \n",
    "  \n",
    "for char in i: \n",
    "   if char in f: \n",
    "      f[char] += 1\n",
    "   else: \n",
    "      f[char] = 1\n",
    "print (\"Per char frequency in '{}' is :\\n {}\".format(i, str(f)))\n"
   ]
  },
  {
   "cell_type": "markdown",
   "metadata": {},
   "source": [
    "#3.Write a Python program to get a single string from two given strings, separated by a space and swap the first two characters of each string"
   ]
  },
  {
   "cell_type": "code",
   "execution_count": 5,
   "metadata": {},
   "outputs": [
    {
     "name": "stdout",
     "output_type": "stream",
     "text": [
      "Enter the string a:cat\n",
      "Enter the string b:dog\n",
      "dot cag\n"
     ]
    }
   ],
   "source": [
    "a=input('Enter the string a:')\n",
    "\n",
    "b=input('Enter the string b:')\n",
    "\n",
    "x=a[0:2]\n",
    "\n",
    "a=a.replace(a[0:2],b[0:2])\n",
    "\n",
    "b=b.replace(b[0:2],x)\n",
    "\n",
    "print(a,b)"
   ]
  },
  {
   "cell_type": "markdown",
   "metadata": {},
   "source": [
    "#4.Write a Python script that takes input from the user and displays that input back in upper and lower cases"
   ]
  },
  {
   "cell_type": "code",
   "execution_count": 12,
   "metadata": {},
   "outputs": [
    {
     "name": "stdout",
     "output_type": "stream",
     "text": [
      "Enter an string:Afthab\n",
      "String in upper case is: AFTHAB\n",
      "String in lower case is: afthab\n"
     ]
    }
   ],
   "source": [
    "a=input(\"Enter an string:\")\n",
    "print(\"String in upper case is:\",a.upper())\n",
    "print(\"String in lower case is:\",a.lower())\n"
   ]
  },
  {
   "cell_type": "markdown",
   "metadata": {},
   "source": [
    "#5.Write a Python program to remove a newline in Python."
   ]
  },
  {
   "cell_type": "code",
   "execution_count": 23,
   "metadata": {},
   "outputs": [
    {
     "name": "stdout",
     "output_type": "stream",
     "text": [
      "Afthab Hussain\n",
      "\n",
      "Afthab Hussain\n",
      "\n"
     ]
    }
   ],
   "source": [
    "str1='Afthab Hussain\\n'\n",
    "print(str1)\n",
    "print(str1.lstrip())\n"
   ]
  },
  {
   "cell_type": "markdown",
   "metadata": {},
   "source": [
    "#6.Write a Python program to count occurrences of a substring in a string."
   ]
  },
  {
   "cell_type": "code",
   "execution_count": 30,
   "metadata": {},
   "outputs": [
    {
     "name": "stdout",
     "output_type": "stream",
     "text": [
      "Enter word to check Occurrencespython\n",
      "Occurrences of the word is 2 times\n"
     ]
    }
   ],
   "source": [
    "a=\"python is easy to learn.python is one of the famous programming language around the world\"\n",
    "b=input(\"Enter word to check Occurrences\")\n",
    "print(\"Occurrences of the word is %d times\"%(a.count(b)))"
   ]
  },
  {
   "cell_type": "markdown",
   "metadata": {},
   "source": [
    "#7.Write a Python program to convert a string in a list."
   ]
  },
  {
   "cell_type": "code",
   "execution_count": 32,
   "metadata": {},
   "outputs": [
    {
     "name": "stdout",
     "output_type": "stream",
     "text": [
      "Enter an stringmy self Afthab Hussain from india \n",
      "On converting of string to list is: ['my', 'self', 'Afthab', 'Hussain', 'from', 'india']\n"
     ]
    }
   ],
   "source": [
    "a=input(\"Enter an string\")\n",
    "print(\"On converting of string to list is:\",a.split())"
   ]
  },
  {
   "cell_type": "markdown",
   "metadata": {},
   "source": [
    "#8.Write a Python program to perform Deletion of a character "
   ]
  },
  {
   "cell_type": "code",
   "execution_count": 35,
   "metadata": {},
   "outputs": [
    {
     "name": "stdout",
     "output_type": "stream",
     "text": [
      "arth\n",
      "Earh\n",
      "Eart\n"
     ]
    }
   ],
   "source": [
    "def remove_char(str, n):\n",
    "      first_part = str[:n] \n",
    "      last_part = str[n+1:]\n",
    "      return first_part + last_part\n",
    "print(remove_char('Earth', 0))\n",
    "print(remove_char('Earth', 3))\n",
    "print(remove_char('Earth', 4))\n"
   ]
  },
  {
   "cell_type": "markdown",
   "metadata": {},
   "source": [
    "#9.Write a program to print every character of a string entered by user in a new line using loop. "
   ]
  },
  {
   "cell_type": "code",
   "execution_count": 40,
   "metadata": {},
   "outputs": [
    {
     "name": "stdout",
     "output_type": "stream",
     "text": [
      "Please Enter your Own String : Afthab\n",
      "The Character at 0 Index Position = A\n",
      "The Character at 1 Index Position = f\n",
      "The Character at 2 Index Position = t\n",
      "The Character at 3 Index Position = h\n",
      "The Character at 4 Index Position = a\n",
      "The Character at 5 Index Position = b\n"
     ]
    }
   ],
   "source": [
    "str1 = input(\"Please Enter your Own String : \")\n",
    " \n",
    "for i in range(len(str1)):\n",
    "    print(\"The Character at %d Index Position = %c\" %(i, str1[i]))"
   ]
  },
  {
   "cell_type": "markdown",
   "metadata": {},
   "source": [
    "#10.Write a program to find the length of the string \"refrigerator\" without using len function. \n",
    "\n"
   ]
  },
  {
   "cell_type": "code",
   "execution_count": 41,
   "metadata": {},
   "outputs": [
    {
     "name": "stdout",
     "output_type": "stream",
     "text": [
      "12\n"
     ]
    }
   ],
   "source": [
    "a = \"refrigerator\" \n",
    "count = 0 \n",
    "for i in a:\n",
    "   count = count+1 \n",
    "print (count)  "
   ]
  }
 ],
 "metadata": {
  "kernelspec": {
   "display_name": "Python 3",
   "language": "python",
   "name": "python3"
  },
  "language_info": {
   "codemirror_mode": {
    "name": "ipython",
    "version": 3
   },
   "file_extension": ".py",
   "mimetype": "text/x-python",
   "name": "python",
   "nbconvert_exporter": "python",
   "pygments_lexer": "ipython3",
   "version": "3.7.6"
  }
 },
 "nbformat": 4,
 "nbformat_minor": 4
}
