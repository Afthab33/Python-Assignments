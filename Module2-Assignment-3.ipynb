{
 "cells": [
  {
   "cell_type": "markdown",
   "metadata": {},
   "source": [
    "#1. Write a Python program to find area of a circle using math function."
   ]
  },
  {
   "cell_type": "code",
   "execution_count": 2,
   "metadata": {},
   "outputs": [
    {
     "name": "stdout",
     "output_type": "stream",
     "text": [
      "Enter the radius of the circle: 5\n",
      "78.54\n"
     ]
    }
   ],
   "source": [
    "import math\n",
    "def area_of_circle(r): \n",
    "    a = r**2 * math.pi\n",
    "    return a\n",
    "\n",
    "r = float(input(\"Enter the radius of the circle: \"))\n",
    "print(\"%.2f\" %area_of_circle(r))"
   ]
  },
  {
   "cell_type": "markdown",
   "metadata": {},
   "source": [
    "#2. Write a program to find Area of Regular Polygon using math function."
   ]
  },
  {
   "cell_type": "code",
   "execution_count": 5,
   "metadata": {},
   "outputs": [
    {
     "name": "stdout",
     "output_type": "stream",
     "text": [
      "Enter No.of sides of the polygon:6\n",
      "Enter the length of each side:25\n",
      "The Perimeter of regular polygon is 150\n",
      "The Apothem of the regular poygon is 21.65063509461097\n",
      "The Area of regular polygon is 1623.7976320958228\n"
     ]
    }
   ],
   "source": [
    "import math\n",
    "n=int(input(\"Enter No.of sides of the polygon:\"))\n",
    "s=int(input(\"Enter the length of each side:\"))\n",
    "P=s*n\n",
    "print(\"The Perimeter of regular polygon is\",P)\n",
    "a=s/(2*math.tan(math.pi/n))\n",
    "print(\"The Apothem of the regular poygon is\",a)\n",
    "A=(P*a)/2\n",
    "print(\"The Area of regular polygon is\",A)"
   ]
  },
  {
   "cell_type": "markdown",
   "metadata": {},
   "source": [
    "#3. Write a program to find  Area of a Segment of a Circle Formula using math function."
   ]
  },
  {
   "cell_type": "code",
   "execution_count": 6,
   "metadata": {},
   "outputs": [
    {
     "name": "stdout",
     "output_type": "stream",
     "text": [
      "Enter the radius of circle:5\n",
      "Enter the angle of the segment:4\n",
      "The Area of segment is 0.8726646259971649\n"
     ]
    }
   ],
   "source": [
    "import math\n",
    "r=float(input(\"Enter the radius of circle:\"))\n",
    "angle=float(input(\"Enter the angle of the segment:\"))\n",
    "A=(math.pi*r**2)*(angle/360)\n",
    "print(\"The Area of segment is\",A)"
   ]
  },
  {
   "cell_type": "markdown",
   "metadata": {},
   "source": [
    "#4. Write a python program to shuffle list l1=[100,1,2,3,30,40,”hai”,”hello”]."
   ]
  },
  {
   "cell_type": "code",
   "execution_count": 7,
   "metadata": {},
   "outputs": [
    {
     "name": "stdout",
     "output_type": "stream",
     "text": [
      "Original list: [100, 1, 2, 3, 30, 40, 'hai', 'hello']\n",
      "List after first shuffle: [100, 1, 40, 30, 'hello', 3, 'hai', 2]\n",
      "List after second shuffle: [30, 'hello', 'hai', 40, 100, 2, 3, 1]\n",
      "List after third shuffle: [1, 'hai', 30, 'hello', 100, 3, 40, 2]\n",
      "List after fourth shuffle: [1, 100, 2, 'hello', 3, 40, 30, 'hai']\n",
      "List after fifth shuffle: ['hai', 1, 100, 3, 'hello', 30, 2, 40]\n"
     ]
    }
   ],
   "source": [
    "import random\n",
    "l1=[100,1,2,3,30,40,\"hai\",\"hello\"]\n",
    "print(\"Original list:\",l1)\n",
    "random.shuffle(l1)\n",
    "print(\"List after first shuffle:\",l1)\n",
    "random.shuffle(l1)\n",
    "print(\"List after second shuffle:\",l1)\n",
    "random.shuffle(l1)\n",
    "print(\"List after third shuffle:\",l1)\n",
    "random.shuffle(l1)\n",
    "print(\"List after fourth shuffle:\",l1)\n",
    "random.shuffle(l1)\n",
    "print(\"List after fifth shuffle:\",l1)"
   ]
  },
  {
   "cell_type": "markdown",
   "metadata": {},
   "source": [
    "#5. Write a program to generate random numbers between 1,10000 and difference between each random number is 50."
   ]
  },
  {
   "cell_type": "code",
   "execution_count": 9,
   "metadata": {},
   "outputs": [
    {
     "name": "stdout",
     "output_type": "stream",
     "text": [
      "First shuffle 6550\n",
      "Second shuffle 9100\n",
      "Third shuffle 9250\n"
     ]
    }
   ],
   "source": [
    "import random\n",
    "print(\"First shuffle\",random.randrange(0,10001,50))\n",
    "print(\"Second shuffle\",random.randrange(0,10001,50))\n",
    "print(\"Third shuffle\",random.randrange(0,10001,50))"
   ]
  },
  {
   "cell_type": "markdown",
   "metadata": {},
   "source": [
    "#6.\tWrite a python program by using math module to find\n",
    "i.\tSin600\n",
    "ii.\tcos(pi)\n",
    "iii.\ttan900\n",
    "iv.\tangle of sin(0.8660254037844386)\n",
    "v.\t5^8\n",
    "vi.\tSquare root of 400\n",
    "vii.\tThe value of 5^e\n",
    "viii.\tThe value of Log(1024), base 2\n",
    "ix.\tThe value of Log(1024), base 10\n",
    "x.\tThe Floor and Ceiling value of 23.56 \n",
    "\n",
    "\n"
   ]
  },
  {
   "cell_type": "code",
   "execution_count": 10,
   "metadata": {},
   "outputs": [
    {
     "name": "stdout",
     "output_type": "stream",
     "text": [
      "The value of Sin(60) is 0.8660254037844386\n",
      "The value of Cos(pi) is -1.0\n",
      "The value of Tan(90) is 1.633123935319537e+16\n",
      "The Angle Sin inverse of 0.8660254037844386 is 60.00002145385002 Degrees\n",
      "The value of 5^8 is 13\n",
      "The Square root value of 400 is 20.0\n",
      "The Value of 5^e is 7\n",
      "The value of Log(1024) for base 2 is 10.0\n",
      "The value of Log(1024) for base 10 is 3.0102999566398116\n",
      "The Floor value of 23.56 is 23\n",
      "The Ceil value of 23.56 is 24\n"
     ]
    }
   ],
   "source": [
    "import cmath\n",
    "print(\"The value of Sin(60) is\",math.sin((math.pi)/3))\n",
    "print(\"The value of Cos(pi) is\",math.cos(math.pi))\n",
    "print(\"The value of Tan(90) is\",math.tan((math.pi)/2))\n",
    "print(\"The Angle Sin inverse of 0.8660254037844386 is\",(math.asin(0.8660254037844386))*57.2958,\"Degrees\")\n",
    "print(\"The value of 5^8 is\",5^8)\n",
    "print(\"The Square root value of 400 is\",math.sqrt(400))\n",
    "print(\"The Value of 5^e is\",5^int((math.e)))\n",
    "print(\"The value of Log(1024) for base 2 is\",math.log(1024,2))\n",
    "print(\"The value of Log(1024) for base 10 is\",math.log(1024,10))\n",
    "print(\"The Floor value of 23.56 is\",math.floor(23.56))\n",
    "print(\"The Ceil value of 23.56 is\",math.ceil(23.56))"
   ]
  }
 ],
 "metadata": {
  "kernelspec": {
   "display_name": "Python 3",
   "language": "python",
   "name": "python3"
  },
  "language_info": {
   "codemirror_mode": {
    "name": "ipython",
    "version": 3
   },
   "file_extension": ".py",
   "mimetype": "text/x-python",
   "name": "python",
   "nbconvert_exporter": "python",
   "pygments_lexer": "ipython3",
   "version": "3.7.6"
  }
 },
 "nbformat": 4,
 "nbformat_minor": 4
}
