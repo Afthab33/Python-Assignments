{
 "cells": [
  {
   "cell_type": "markdown",
   "metadata": {},
   "source": [
    "#1.Write a python program to sum all the items in a list."
   ]
  },
  {
   "cell_type": "code",
   "execution_count": 4,
   "metadata": {},
   "outputs": [
    {
     "name": "stdout",
     "output_type": "stream",
     "text": [
      "Sum of items in a list is: 100\n"
     ]
    }
   ],
   "source": [
    "a=[2,4,6,8,24,56]\n",
    "print(\"Sum of items in a list is:\",sum(a))\n"
   ]
  },
  {
   "cell_type": "markdown",
   "metadata": {},
   "source": [
    "#2.Write a python program to multiplies all the items in a list"
   ]
  },
  {
   "cell_type": "code",
   "execution_count": 11,
   "metadata": {},
   "outputs": [
    {
     "name": "stdout",
     "output_type": "stream",
     "text": [
      "multiplication of all the items in a list is: 6480\n"
     ]
    }
   ],
   "source": [
    "b=[2,4,3,6,45]\n",
    "print(\"multiplication of all the items in a list is:\",numpy.prod(b))"
   ]
  },
  {
   "cell_type": "markdown",
   "metadata": {},
   "source": [
    "#3.Write a python to get the largest and smallest number in a list"
   ]
  },
  {
   "cell_type": "code",
   "execution_count": 2,
   "metadata": {},
   "outputs": [
    {
     "name": "stdout",
     "output_type": "stream",
     "text": [
      "Largest number in list is: 345\n",
      "Smallest number in list is: 22\n"
     ]
    }
   ],
   "source": [
    "c=[22,45,65,345,56,76]\n",
    "print(\"Largest number in list is:\",max(c))\n",
    "print(\"Smallest number in list is:\",min(c))"
   ]
  },
  {
   "cell_type": "markdown",
   "metadata": {},
   "source": [
    "#4.Write a program to remove duplicates from a list"
   ]
  },
  {
   "cell_type": "code",
   "execution_count": 6,
   "metadata": {},
   "outputs": [
    {
     "name": "stdout",
     "output_type": "stream",
     "text": [
      "On removing duplicates from list is as follows:\n",
      " [2, 3, 4, 5, 6, 7]\n"
     ]
    }
   ],
   "source": [
    "x=[2,2,3,3,3,4,3,4,2,5,6,6,7,5,7]\n",
    "print(\"On removing duplicates from list is as follows:\\n\",list(set(x)))"
   ]
  },
  {
   "cell_type": "markdown",
   "metadata": {},
   "source": [
    "#5.Write a program to check a list is empty or not "
   ]
  },
  {
   "cell_type": "code",
   "execution_count": 12,
   "metadata": {},
   "outputs": [
    {
     "name": "stdout",
     "output_type": "stream",
     "text": [
      "List is empty\n"
     ]
    }
   ],
   "source": [
    "d=[]\n",
    "e=len(d)\n",
    "if e==0:\n",
    "    print(\"List is empty\")\n",
    "else:   \n",
    "    print(\"List is not empty\")"
   ]
  }
 ],
 "metadata": {
  "kernelspec": {
   "display_name": "Python 3",
   "language": "python",
   "name": "python3"
  },
  "language_info": {
   "codemirror_mode": {
    "name": "ipython",
    "version": 3
   },
   "file_extension": ".py",
   "mimetype": "text/x-python",
   "name": "python",
   "nbconvert_exporter": "python",
   "pygments_lexer": "ipython3",
   "version": "3.7.6"
  }
 },
 "nbformat": 4,
 "nbformat_minor": 4
}
