{
 "cells": [
  {
   "cell_type": "markdown",
   "metadata": {},
   "source": [
    "#1. Write a Python function to find the Max of three numbers."
   ]
  },
  {
   "cell_type": "code",
   "execution_count": 3,
   "metadata": {},
   "outputs": [
    {
     "name": "stdout",
     "output_type": "stream",
     "text": [
      "35\n"
     ]
    }
   ],
   "source": [
    "def maximum(a, b, c): \n",
    "  \n",
    "    if (a >= b) and (a >= c): \n",
    "        largest = a \n",
    "  \n",
    "    elif (b >= a) and (b >= c): \n",
    "        largest = b \n",
    "    else: \n",
    "        largest = c \n",
    "          \n",
    "    return largest \n",
    " \n",
    "a = 19\n",
    "b = 26\n",
    "c = 35\n",
    "print(maximum(a, b, c))"
   ]
  },
  {
   "cell_type": "markdown",
   "metadata": {},
   "source": [
    "#2.\tWrite a Python program to reverse a string."
   ]
  },
  {
   "cell_type": "code",
   "execution_count": 6,
   "metadata": {},
   "outputs": [
    {
     "name": "stdout",
     "output_type": "stream",
     "text": [
      "Given String:  Afthab\n",
      "Reversed String:  bahtfA\n"
     ]
    }
   ],
   "source": [
    "def reverse(str):\n",
    "    s = \"\"\n",
    "    for ch in str:\n",
    "        s = ch + s\n",
    "    return s\n",
    "mystr = \"Afthab\"\n",
    "print(\"Given String: \", mystr)\n",
    "print(\"Reversed String: \", reverse(mystr))"
   ]
  },
  {
   "cell_type": "markdown",
   "metadata": {},
   "source": [
    "#3.Write a Python function to check whether the number is prime or not."
   ]
  },
  {
   "cell_type": "code",
   "execution_count": 7,
   "metadata": {},
   "outputs": [
    {
     "name": "stdout",
     "output_type": "stream",
     "text": [
      "False\n"
     ]
    }
   ],
   "source": [
    "def test_prime(n):\n",
    "    if (n==1):\n",
    "        return False\n",
    "    elif (n==2):\n",
    "        return True;\n",
    "    else:\n",
    "        for x in range(2,n):\n",
    "            if(n % x==0):\n",
    "                return False\n",
    "        return True             \n",
    "print(test_prime(33))"
   ]
  },
  {
   "cell_type": "markdown",
   "metadata": {},
   "source": [
    "#4.\tUse try, except, else and finally block to check whether the number is palindrome or not.(Raise error when input is not proper)."
   ]
  },
  {
   "cell_type": "code",
   "execution_count": 9,
   "metadata": {},
   "outputs": [
    {
     "name": "stdout",
     "output_type": "stream",
     "text": [
      "Enter any number : 606\n",
      "The given number is PALINDROME\n"
     ]
    }
   ],
   "source": [
    "num = input('Enter any number : ')\n",
    "try:\n",
    "    val = int(num)\n",
    "    if num == str(num)[::-1]:\n",
    "        print('The given number is PALINDROME')\n",
    "    else:\n",
    "        print('The given number is NOT a palindrome')\n",
    "except ValueError:\n",
    "    print(\"That's not a valid number, Try Again !\")"
   ]
  },
  {
   "cell_type": "markdown",
   "metadata": {},
   "source": [
    "#5. Write a python function to find sum of squares of first n natural numbers"
   ]
  },
  {
   "cell_type": "code",
   "execution_count": 10,
   "metadata": {},
   "outputs": [
    {
     "name": "stdout",
     "output_type": "stream",
     "text": [
      "To find the sum of squares of first n natural numbers\n",
      "Enter the value of n:3\n",
      "14.0\n"
     ]
    }
   ],
   "source": [
    "print(\"To find the sum of squares of first n natural numbers\")\n",
    "def sumsquare(n):\n",
    "    return((n*(n+1)*(2*n+1))/6)\n",
    "n=int(input(\"Enter the value of n:\"))\n",
    "print(sumsquare(n))"
   ]
  }
 ],
 "metadata": {
  "kernelspec": {
   "display_name": "Python 3",
   "language": "python",
   "name": "python3"
  },
  "language_info": {
   "codemirror_mode": {
    "name": "ipython",
    "version": 3
   },
   "file_extension": ".py",
   "mimetype": "text/x-python",
   "name": "python",
   "nbconvert_exporter": "python",
   "pygments_lexer": "ipython3",
   "version": "3.7.6"
  }
 },
 "nbformat": 4,
 "nbformat_minor": 4
}
