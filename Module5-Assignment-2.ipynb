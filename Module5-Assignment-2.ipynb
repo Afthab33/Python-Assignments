{
 "cells": [
  {
   "cell_type": "markdown",
   "metadata": {},
   "source": [
    "#1.What is dictionary in Python? Explain with an example"
   ]
  },
  {
   "cell_type": "markdown",
   "metadata": {},
   "source": [
    "Ans:\n",
    "A dictionary is a collection which is unordered, changeable and indexed. In Python dictionaries are written with curly brackets, and they have keys and values.\n",
    "\n",
    "In Python, a Dictionary can be created by placing sequence of elements within curly {} braces, separated by ‘comma’. Dictionary holds a pair of values, one being the Key and the other corresponding pair element being its Key:value. Values in a dictionary can be of any datatype and can be duplicated, whereas keys can’t be repeated and must be immutable.\n",
    "\n",
    "Example\n",
    "dict = {\"brand\": \"Ford\", \"model\": \"Mustang\",\"year\": 1964}\n",
    "print(dict)"
   ]
  },
  {
   "cell_type": "markdown",
   "metadata": {},
   "source": [
    "#3.Write a Python program to sum all the items in a list"
   ]
  },
  {
   "cell_type": "code",
   "execution_count": 1,
   "metadata": {},
   "outputs": [
    {
     "name": "stdout",
     "output_type": "stream",
     "text": [
      "20\n"
     ]
    }
   ],
   "source": [
    "a=[2,3,4,5,6]\n",
    "b=sum(a)\n",
    "print(b)"
   ]
  },
  {
   "cell_type": "markdown",
   "metadata": {},
   "source": [
    "#4.Write a Python program to create a list of empty dictionaries."
   ]
  },
  {
   "cell_type": "code",
   "execution_count": 4,
   "metadata": {},
   "outputs": [
    {
     "name": "stdout",
     "output_type": "stream",
     "text": [
      "Enter no of Empty dictionaries to be added:6\n",
      "[{}, {}, {}, {}, {}, {}]\n"
     ]
    }
   ],
   "source": [
    "n=int(input(\"Enter no of Empty dictionaries to be added:\"))\n",
    "d={}\n",
    "l1=[]\n",
    "for i in range(n):\n",
    "    l1.append(d)\n",
    "print(l1)"
   ]
  },
  {
   "cell_type": "markdown",
   "metadata": {},
   "source": [
    "#5.Write a Python program to access dictionary keys element by index."
   ]
  },
  {
   "cell_type": "code",
   "execution_count": 6,
   "metadata": {},
   "outputs": [
    {
     "name": "stdout",
     "output_type": "stream",
     "text": [
      "c\n"
     ]
    }
   ],
   "source": [
    "dict={'a':1,'b':2,'c':3,'d':4}\n",
    "print(list(dict)[2])\n"
   ]
  },
  {
   "cell_type": "markdown",
   "metadata": {},
   "source": [
    "#6.Write a Python program to iterate over dictionaries using for loops"
   ]
  },
  {
   "cell_type": "code",
   "execution_count": 30,
   "metadata": {},
   "outputs": [
    {
     "name": "stdout",
     "output_type": "stream",
     "text": [
      "Iterating through dictionaries\n",
      "a : 1\n",
      "b : 2\n",
      "c : 3\n",
      "d : 4\n"
     ]
    }
   ],
   "source": [
    "dict={'a':1,'b':2,'c':3,'d':4}\n",
    "print(\"Iterating through dictionaries\")\n",
    "\n",
    "for key,values in dict.items():\n",
    "    print(key,\":\",values)"
   ]
  },
  {
   "cell_type": "markdown",
   "metadata": {},
   "source": [
    "#7.Write a Python program to sum all the items in a dictionary."
   ]
  },
  {
   "cell_type": "code",
   "execution_count": 19,
   "metadata": {},
   "outputs": [
    {
     "name": "stdout",
     "output_type": "stream",
     "text": [
      "10\n"
     ]
    }
   ],
   "source": [
    "dict={'a':1,'b':2,'c':3,'d':4}\n",
    "sum=0\n",
    "for i in dict:\n",
    "    sum=sum+dict[i]\n",
    "print(sum)\n",
    "    "
   ]
  },
  {
   "cell_type": "markdown",
   "metadata": {},
   "source": [
    "#8.Write a Python script to concatenate following dictionaries to create a new one. Sample Dictionary \n",
    "\n",
    "    a. dic1={1:10, 2:20}\n",
    "    b. dic2={3:30, 4:40}\n",
    "    c. dic3={5:50,6:60}"
   ]
  },
  {
   "cell_type": "code",
   "execution_count": 38,
   "metadata": {},
   "outputs": [
    {
     "name": "stdout",
     "output_type": "stream",
     "text": [
      "{1: 10, 2: 20, 3: 30, 4: 40, 5: 50, 6: 60}\n"
     ]
    }
   ],
   "source": [
    "dict1={1:10, 2:20}\n",
    "dict2={3:30, 4:40}\n",
    "dict3={5:50,6:60}\n",
    "dict4={}\n",
    "for i in (dict1,dict2,dict3):\n",
    "    dict4.update(i)\n",
    "print(dict4)"
   ]
  },
  {
   "cell_type": "markdown",
   "metadata": {},
   "source": [
    "#10.Write a Python program to create a tuple"
   ]
  },
  {
   "cell_type": "code",
   "execution_count": 3,
   "metadata": {},
   "outputs": [
    {
     "name": "stdout",
     "output_type": "stream",
     "text": [
      "Enter elements to add in tuple\n",
      ">>>Enter done to stop<<<\n",
      "Enter values in tuple:2\n",
      "Enter values in tuple:3\n",
      "Enter values in tuple:5\n",
      "Enter values in tuple:7\n",
      "Enter values in tuple:9\n",
      "Enter values in tuple:done\n",
      "The tuple is ('2', '3', '5', '7', '9')\n"
     ]
    }
   ],
   "source": [
    "print(\"Enter elements to add in tuple\")\n",
    "print(\">>>Enter done to stop<<<\")\n",
    "l1=[]\n",
    "while True:\n",
    "        values=input(\"Enter values in tuple:\")\n",
    "        if values==\"done\":\n",
    "            break\n",
    "        l1.append(values)\n",
    "tup=tuple(l1)\n",
    "print(\"The tuple is\",tup)"
   ]
  },
  {
   "cell_type": "markdown",
   "metadata": {},
   "source": [
    "#11.Write a Python program to create a tuple with different data types"
   ]
  },
  {
   "cell_type": "code",
   "execution_count": 8,
   "metadata": {},
   "outputs": [
    {
     "name": "stdout",
     "output_type": "stream",
     "text": [
      "Enter Different data types to add in tuple\n",
      ">>>Enter done to stop<<<\n",
      "Enter Different data types in tuple:\"Hello\"\n",
      "Enter Different data types in tuple:35\n",
      "Enter Different data types in tuple:56.789\n",
      "Enter Different data types in tuple:done\n",
      "The tuple with different data types is: ('\"Hello\"', '35', '56.789')\n"
     ]
    }
   ],
   "source": [
    "print(\"Enter Different data types to add in tuple\")\n",
    "print(\">>>Enter done to stop<<<\")\n",
    "l1=[]\n",
    "while True:\n",
    "        values=input(\"Enter Different data types in tuple:\")\n",
    "        if values==\"done\":\n",
    "            break\n",
    "        l1.append(values)\n",
    "tup=tuple(l1)\n",
    "print(\"The tuple with different data types is:\",tup)"
   ]
  },
  {
   "cell_type": "markdown",
   "metadata": {},
   "source": [
    "#12.Write a Python program to convert a tuple to a string"
   ]
  },
  {
   "cell_type": "code",
   "execution_count": 14,
   "metadata": {},
   "outputs": [
    {
     "name": "stdout",
     "output_type": "stream",
     "text": [
      "abcdef\n"
     ]
    }
   ],
   "source": [
    "tup=('a','b','c','d','e','f')\n",
    "s=\"\"\n",
    "for i in tup:\n",
    "    s=s+i\n",
    "print(s)\n",
    "# or s=''.join(tup)"
   ]
  },
  {
   "cell_type": "markdown",
   "metadata": {},
   "source": [
    "#13.Write a Python program to slice a tuple"
   ]
  },
  {
   "cell_type": "code",
   "execution_count": 23,
   "metadata": {},
   "outputs": [
    {
     "name": "stdout",
     "output_type": "stream",
     "text": [
      "('ball', 'cat', 'dog', 'elephant')\n"
     ]
    }
   ],
   "source": [
    "tup=('apple','ball','cat','dog','elephant','frog')\n",
    "a=tup[1:5]\n",
    "print(a)"
   ]
  },
  {
   "cell_type": "markdown",
   "metadata": {},
   "source": [
    "#14.Write a Python program to find the length of a tuple."
   ]
  },
  {
   "cell_type": "code",
   "execution_count": 24,
   "metadata": {},
   "outputs": [
    {
     "name": "stdout",
     "output_type": "stream",
     "text": [
      "Length of a tuple is: 6\n"
     ]
    }
   ],
   "source": [
    "tup=('1','3','45','367','2345','5678')\n",
    "a=len(tup)\n",
    "print(\"Length of a tuple is:\",a)"
   ]
  },
  {
   "cell_type": "markdown",
   "metadata": {},
   "source": [
    "#15.Write a Python program to convert a tuple to a dictionary."
   ]
  },
  {
   "cell_type": "code",
   "execution_count": 36,
   "metadata": {},
   "outputs": [
    {
     "name": "stdout",
     "output_type": "stream",
     "text": [
      "{1: 2, 2: 3, 3: 4, 4: 5, 5: 6, 6: 7}\n",
      "{'ab': 'ag', 'bc': 'sd', 'c': 'd', 'd': 'e'}\n"
     ]
    }
   ],
   "source": [
    "tup1=((1,2),(2,3),(3,4),(4,5),(5,6),(6,7))\n",
    "tup2=((\"ab\",\"ag\"),(\"bc\",\"sd\"),\"cd\",\"de\")\n",
    "dic1=dict(tup1)\n",
    "dic2=dict(tup2)\n",
    "print(dic1)\n",
    "print(dic2)"
   ]
  },
  {
   "cell_type": "markdown",
   "metadata": {},
   "source": [
    "#16.Write a Python program to reverse a tuple"
   ]
  },
  {
   "cell_type": "code",
   "execution_count": 27,
   "metadata": {},
   "outputs": [
    {
     "name": "stdout",
     "output_type": "stream",
     "text": [
      "('B', 'A', 'H', 'T', 'F', 'A')\n"
     ]
    }
   ],
   "source": [
    "tup=('A','F','T','H','A','B')\n",
    "rev=tup[::-1]\n",
    "print(rev)"
   ]
  },
  {
   "cell_type": "markdown",
   "metadata": {},
   "source": [
    "#17.Write a Python program to convert a list of tuples into a dictionary"
   ]
  },
  {
   "cell_type": "code",
   "execution_count": 32,
   "metadata": {},
   "outputs": [
    {
     "name": "stdout",
     "output_type": "stream",
     "text": [
      "{1: 2, 'a': 'b', 2.3: 4}\n"
     ]
    }
   ],
   "source": [
    "l=[(1,2),(\"a\",\"b\"),(2.3,4)]\n",
    "a=dict(l)\n",
    "print(a)"
   ]
  },
  {
   "cell_type": "markdown",
   "metadata": {},
   "source": [
    "#18.Write a Python program to convert a list to a tuple."
   ]
  },
  {
   "cell_type": "code",
   "execution_count": 37,
   "metadata": {},
   "outputs": [
    {
     "name": "stdout",
     "output_type": "stream",
     "text": [
      "(2, 'a', 34.5, 'afthab', 9999)\n"
     ]
    }
   ],
   "source": [
    "l=[2,\"a\",34.5,\"afthab\",9999]\n",
    "a=tuple(l)\n",
    "print(a)"
   ]
  }
 ],
 "metadata": {
  "kernelspec": {
   "display_name": "Python 3",
   "language": "python",
   "name": "python3"
  },
  "language_info": {
   "codemirror_mode": {
    "name": "ipython",
    "version": 3
   },
   "file_extension": ".py",
   "mimetype": "text/x-python",
   "name": "python",
   "nbconvert_exporter": "python",
   "pygments_lexer": "ipython3",
   "version": "3.7.6"
  }
 },
 "nbformat": 4,
 "nbformat_minor": 4
}
