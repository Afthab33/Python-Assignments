{
 "cells": [
  {
   "cell_type": "markdown",
   "metadata": {},
   "source": [
    "#1.Write a python program to clone or copy a list"
   ]
  },
  {
   "cell_type": "code",
   "execution_count": 3,
   "metadata": {},
   "outputs": [
    {
     "name": "stdout",
     "output_type": "stream",
     "text": [
      "list1 is: [2, 3, 5, 7, 9]\n",
      "list2 is: [2, 3, 5, 7, 9]\n"
     ]
    }
   ],
   "source": [
    "l1=[2,3,5,7,9]\n",
    "l2=list(l1)\n",
    "print(\"list1 is:\",l1)\n",
    "print(\"list2 is:\",l2)\n"
   ]
  },
  {
   "cell_type": "markdown",
   "metadata": {},
   "source": [
    "#2.Write a python program to print specified list after removing the 0th,4th and 5th elements"
   ]
  },
  {
   "cell_type": "code",
   "execution_count": 17,
   "metadata": {},
   "outputs": [
    {
     "name": "stdout",
     "output_type": "stream",
     "text": [
      "['february', 'march', 'april']\n"
     ]
    }
   ],
   "source": [
    "a=['january','february','march','april','may','june']\n",
    "a.pop(0)\n",
    "a.pop(4)\n",
    "a.pop()\n",
    "print(a)"
   ]
  },
  {
   "cell_type": "markdown",
   "metadata": {},
   "source": [
    "#3.Write a python program to print the numbers of a specified list after removing even numbers from it."
   ]
  },
  {
   "cell_type": "code",
   "execution_count": 20,
   "metadata": {},
   "outputs": [
    {
     "name": "stdout",
     "output_type": "stream",
     "text": [
      "[3, 6, 7]\n"
     ]
    }
   ],
   "source": [
    "l1=[2,3,4,6,8,7]\n",
    "for i in l1:\n",
    "    if (i%2==0):\n",
    "        x=l1.remove(i)\n",
    "print(l1)"
   ]
  },
  {
   "cell_type": "markdown",
   "metadata": {},
   "source": [
    "#4.Write a python program to shuffle and print a specified list"
   ]
  },
  {
   "cell_type": "code",
   "execution_count": 25,
   "metadata": {},
   "outputs": [
    {
     "name": "stdout",
     "output_type": "stream",
     "text": [
      "[5, 3, 7, 3, 3, 8, 5, 7]\n"
     ]
    }
   ],
   "source": [
    "l1=[3,5,7,3,5,7,8,3]\n",
    "random.shuffle(l1)\n",
    "print(l1)"
   ]
  },
  {
   "cell_type": "markdown",
   "metadata": {},
   "source": [
    "#5.Write a python program to get the difference between two lists"
   ]
  },
  {
   "cell_type": "code",
   "execution_count": 26,
   "metadata": {},
   "outputs": [
    {
     "name": "stdout",
     "output_type": "stream",
     "text": [
      "Difference between two lists is: [-1, 0, 1, 2]\n"
     ]
    }
   ],
   "source": [
    "l1=[2,5,7,9]\n",
    "l2=[3,5,6,7]\n",
    "l3=[]\n",
    "x=len(l1)\n",
    "for i in range(0,x):\n",
    "    y=l1[i]-l2[i]\n",
    "    l3.append(y)\n",
    "print(\"Difference between two lists is:\",l3)"
   ]
  }
 ],
 "metadata": {
  "kernelspec": {
   "display_name": "Python 3",
   "language": "python",
   "name": "python3"
  },
  "language_info": {
   "codemirror_mode": {
    "name": "ipython",
    "version": 3
   },
   "file_extension": ".py",
   "mimetype": "text/x-python",
   "name": "python",
   "nbconvert_exporter": "python",
   "pygments_lexer": "ipython3",
   "version": "3.7.6"
  }
 },
 "nbformat": 4,
 "nbformat_minor": 4
}
