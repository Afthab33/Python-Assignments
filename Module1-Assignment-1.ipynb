{
 "cells": [
  {
   "cell_type": "markdown",
   "metadata": {},
   "source": [
    "# 1.\tWrite a python program to design simple calculator for the operators \n"
   ]
  },
  {
   "cell_type": "code",
   "execution_count": 1,
   "metadata": {
    "scrolled": true
   },
   "outputs": [
    {
     "name": "stdout",
     "output_type": "stream",
     "text": [
      "Enter value of a:4\n",
      "ENter value of b:2\n",
      "a+b is: 6\n",
      "a-b is: 2\n",
      "a*b is: 8\n",
      "a/b is: 2.0\n",
      "a%b is: 0\n",
      "a**b is: 16\n",
      "a//b is: 2\n"
     ]
    }
   ],
   "source": [
    "a= int(input(\"Enter value of a:\"))\n",
    "b= int(input(\"ENter value of b:\"))\n",
    "add=a+b\n",
    "sub=a-b\n",
    "mul=a*b\n",
    "div=a/b\n",
    "mod=a%b\n",
    "exp=a**b\n",
    "fdiv=a//b\n",
    "print(\"a+b is:\",add)\n",
    "print(\"a-b is:\",sub)\n",
    "print(\"a*b is:\",mul)\n",
    "print(\"a/b is:\",div)\n",
    "print(\"a%b is:\",mod)\n",
    "print(\"a**b is:\",exp)\n",
    "print(\"a//b is:\",fdiv)"
   ]
  },
  {
   "cell_type": "markdown",
   "metadata": {},
   "source": [
    " # 2. Write a python program to calculate simple interest.\n"
   ]
  },
  {
   "cell_type": "code",
   "execution_count": 3,
   "metadata": {},
   "outputs": [
    {
     "name": "stdout",
     "output_type": "stream",
     "text": [
      "Enter the principle amount:1000\n",
      "Enter the rare:2\n",
      "Enter the time:1\n",
      "simple interest is: 20.0\n"
     ]
    }
   ],
   "source": [
    "p=int(input(\"Enter the principle amount:\"))\n",
    "r=int(input(\"Enter the rare:\"))\n",
    "t=int(input(\"Enter the time:\"))\n",
    "#simple interest \n",
    "SI=(p*t*r)/100\n",
    "print(\"simple interest is:\",SI)\n"
   ]
  },
  {
   "cell_type": "markdown",
   "metadata": {},
   "source": [
    "# 3.\tWrite a python program to calculate area of a circle."
   ]
  },
  {
   "cell_type": "code",
   "execution_count": 2,
   "metadata": {},
   "outputs": [
    {
     "name": "stdout",
     "output_type": "stream",
     "text": [
      "Enter radius of circle :4\n",
      "Area of circle is: 50.24\n"
     ]
    }
   ],
   "source": [
    "pi=3.14\n",
    "r=int(input(\"Enter radius of circle :\"))\n",
    "area=(pi*r*r)\n",
    "print(\"Area of circle is:\",area)"
   ]
  },
  {
   "cell_type": "markdown",
   "metadata": {},
   "source": [
    "# 4.\tWrite a python program to calculate area of a triangle."
   ]
  },
  {
   "cell_type": "code",
   "execution_count": 7,
   "metadata": {},
   "outputs": [
    {
     "name": "stdout",
     "output_type": "stream",
     "text": [
      "Enter the value of a:20\n",
      "Enter the value of b:20\n",
      "Enter the value of c:10\n",
      "Area of triangle is: 96.82458365518542\n"
     ]
    }
   ],
   "source": [
    "a=int(input(\"Enter the value of a:\"))\n",
    "b=int(input(\"Enter the value of b:\"))\n",
    "c=int(input(\"Enter the value of c:\"))\n",
    "s=(a+b+c)/2\n",
    "area=(s*(s-a)*(s-b)*(s-c))**0.5\n",
    "print(\"Area of triangle is:\",area)"
   ]
  },
  {
   "cell_type": "markdown",
   "metadata": {},
   "source": [
    "# 5.\tWrite a python program to temperature in Celsius to Fahrenheit."
   ]
  },
  {
   "cell_type": "code",
   "execution_count": 9,
   "metadata": {},
   "outputs": [
    {
     "name": "stdout",
     "output_type": "stream",
     "text": [
      "ENter temp in celsius:2\n",
      "celsius to Fahrenheit is: 35.6\n"
     ]
    }
   ],
   "source": [
    "c=int(input(\"ENter temp in celsius:\"))\n",
    "f=(c*1.8)+32\n",
    "print(\"celsius to Fahrenheit is:\",f)"
   ]
  },
  {
   "cell_type": "markdown",
   "metadata": {},
   "source": [
    "# 6.\tWrite a python program to calculate area of rectangle."
   ]
  },
  {
   "cell_type": "code",
   "execution_count": 10,
   "metadata": {},
   "outputs": [
    {
     "name": "stdout",
     "output_type": "stream",
     "text": [
      "Enter the value of weidth:2\n",
      "Enter the value of length:4\n",
      "Area of rectangle is: 8\n"
     ]
    }
   ],
   "source": [
    "w=int(input(\"Enter the value of weidth:\"))\n",
    "l=int(input(\"Enter the value of length:\"))\n",
    "area=(l*w)\n",
    "print(\"Area of rectangle is:\",area)"
   ]
  },
  {
   "cell_type": "markdown",
   "metadata": {},
   "source": [
    "# 7.\tWrite a python program to calculate perimeter of a square."
   ]
  },
  {
   "cell_type": "code",
   "execution_count": 11,
   "metadata": {},
   "outputs": [
    {
     "name": "stdout",
     "output_type": "stream",
     "text": [
      "Enter the value of side:4\n",
      "Perimeter of Square is: 16\n"
     ]
    }
   ],
   "source": [
    "s=int(input(\"Enter the value of side:\"))\n",
    "perimeter=(4*s)\n",
    "print(\"Perimeter of Square is:\",perimeter)"
   ]
  },
  {
   "cell_type": "markdown",
   "metadata": {},
   "source": [
    "# 8.\tWrite a python program to calculate circumference of a circle."
   ]
  },
  {
   "cell_type": "code",
   "execution_count": 13,
   "metadata": {},
   "outputs": [
    {
     "name": "stdout",
     "output_type": "stream",
     "text": [
      "Enter the value of radius:4\n",
      "Circumference of circle is: 25.12\n"
     ]
    }
   ],
   "source": [
    "pi=3.14\n",
    "r=int(input(\"Enter the value of radius:\"))\n",
    "cir=(2*pi*r)\n",
    "print(\"Circumference of circle is:\",cir)"
   ]
  },
  {
   "cell_type": "markdown",
   "metadata": {},
   "source": [
    "# 9.\tWrite a python program to swap two numbers."
   ]
  },
  {
   "cell_type": "code",
   "execution_count": 14,
   "metadata": {},
   "outputs": [
    {
     "name": "stdout",
     "output_type": "stream",
     "text": [
      "Enter the value of a:3\n",
      "ENter the value of b:8\n",
      "Before Swapping a and b is: 3 8\n",
      "After swapping a and b is: 8 3\n"
     ]
    }
   ],
   "source": [
    "a=int(input(\"Enter the value of a:\"))\n",
    "b=int(input(\"ENter the value of b:\"))\n",
    "print(\"Before Swapping a and b is:\", a, b)\n",
    "temp=a\n",
    "a=b\n",
    "b=temp\n",
    "print(\"After swapping a and b is:\",a,b)"
   ]
  }
 ],
 "metadata": {
  "celltoolbar": "Raw Cell Format",
  "kernelspec": {
   "display_name": "Python 3",
   "language": "python",
   "name": "python3"
  },
  "language_info": {
   "codemirror_mode": {
    "name": "ipython",
    "version": 3
   },
   "file_extension": ".py",
   "mimetype": "text/x-python",
   "name": "python",
   "nbconvert_exporter": "python",
   "pygments_lexer": "ipython3",
   "version": "3.7.6"
  }
 },
 "nbformat": 4,
 "nbformat_minor": 4
}
