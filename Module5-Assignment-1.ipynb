{
 "cells": [
  {
   "cell_type": "markdown",
   "metadata": {},
   "source": [
    "#1.Write a Python program to sum all the items in a dictionary"
   ]
  },
  {
   "cell_type": "code",
   "execution_count": 2,
   "metadata": {},
   "outputs": [
    {
     "name": "stdout",
     "output_type": "stream",
     "text": [
      "202\n"
     ]
    }
   ],
   "source": [
    "a={\"a\":24,\"b\":35,\"c\":56,\"d\":87}\n",
    "sum=0\n",
    "for i in a.values():\n",
    "    sum=sum+i\n",
    "print(sum)"
   ]
  },
  {
   "cell_type": "markdown",
   "metadata": {},
   "source": [
    "#2.Python program to demonstrate accessing an element from a Dictionary"
   ]
  },
  {
   "cell_type": "code",
   "execution_count": 1,
   "metadata": {},
   "outputs": [
    {
     "name": "stdout",
     "output_type": "stream",
     "text": [
      "Enter Key and values\n",
      "Enter done to stop\n",
      "Enter key:a\n",
      "Enter value:23\n",
      "Enter key:b\n",
      "Enter value:43\n",
      "Enter key:c\n",
      "Enter value:56\n",
      "Enter key:done\n",
      "Enter value:done\n",
      "Enter an element to be accessed:c\n",
      "The element is: c 56\n"
     ]
    }
   ],
   "source": [
    "dir={}\n",
    "print('Enter Key and values')\n",
    "print('Enter done to stop')\n",
    "while True:\n",
    "    key=input(\"Enter key:\")\n",
    "    value=input(\"Enter value:\")\n",
    "    if key==\"done\" or value==\"done\":\n",
    "        break\n",
    "    dir[key]=value\n",
    "e=input(\"Enter an element to be accessed:\")\n",
    "if e in dir:\n",
    "    print(\"The element is:\",e,dir[e])\n",
    "else:\n",
    "    print(\"Element not found\")"
   ]
  },
  {
   "cell_type": "markdown",
   "metadata": {},
   "source": [
    "#3.Write a python program to concate two dictionaries"
   ]
  },
  {
   "cell_type": "code",
   "execution_count": 4,
   "metadata": {},
   "outputs": [
    {
     "name": "stdout",
     "output_type": "stream",
     "text": [
      "{'a': 23, 'b': 45, 'c': 56, 'd': 43, 'e': 89, 'f': 95}\n"
     ]
    }
   ],
   "source": [
    "dict1={'a':23,'b':45,'c':56}\n",
    "dict2={'d':43,'e':89,'f':95}\n",
    "dict1.update(dict2)\n",
    "print(dict1)"
   ]
  },
  {
   "cell_type": "markdown",
   "metadata": {},
   "source": [
    "#4.Write a python program to add keys/values in a dictionary (update dictionary)"
   ]
  },
  {
   "cell_type": "code",
   "execution_count": 3,
   "metadata": {},
   "outputs": [
    {
     "name": "stdout",
     "output_type": "stream",
     "text": [
      "Enter key:b\n",
      "Enter value:2\n",
      "Enter key:c\n",
      "Enter value:4\n",
      "Enter key:d\n",
      "Enter value:6\n",
      "Enter key:done\n",
      "Enter value:done\n",
      "On adding key/values to dict1 is: {'a': 1, 'b': '2', 'c': '4', 'd': '6'}\n"
     ]
    }
   ],
   "source": [
    "dict1={'a':1}\n",
    "while True:\n",
    "    key=input(\"Enter key:\")\n",
    "    value=input(\"Enter value:\")\n",
    "    if key=='done' or value=='done':\n",
    "        break\n",
    "    dict1[key]=value\n",
    "print(\"On adding key/values to dict1 is:\",dict1)"
   ]
  },
  {
   "cell_type": "markdown",
   "metadata": {},
   "source": [
    "#5.Write a python program to find the length of a dictionary in Python"
   ]
  },
  {
   "cell_type": "code",
   "execution_count": 7,
   "metadata": {},
   "outputs": [
    {
     "name": "stdout",
     "output_type": "stream",
     "text": [
      "4\n"
     ]
    }
   ],
   "source": [
    "dict1={'a': 1, 'b': '2', 'c': '4', 'd': '6'}\n",
    "a=len(dict1)\n",
    "print(a)"
   ]
  },
  {
   "cell_type": "markdown",
   "metadata": {},
   "source": [
    "#6.Write a python program to remove items from the dictionary in Python"
   ]
  },
  {
   "cell_type": "code",
   "execution_count": 11,
   "metadata": {},
   "outputs": [
    {
     "name": "stdout",
     "output_type": "stream",
     "text": [
      "Enter key value to be deleted:c\n",
      "After deleting specified key value dict1 is: {'a': 1, 'b': '2', 'd': '6'}\n"
     ]
    }
   ],
   "source": [
    "dict1={'a': 1, 'b': '2', 'c': '4', 'd': '6'}\n",
    "a=input(\"Enter key value to be deleted:\")\n",
    "if a in dict1:\n",
    "    del dict1[a]\n",
    "print(\"After deleting specified key value dict1 is:\",dict1)"
   ]
  }
 ],
 "metadata": {
  "kernelspec": {
   "display_name": "Python 3",
   "language": "python",
   "name": "python3"
  },
  "language_info": {
   "codemirror_mode": {
    "name": "ipython",
    "version": 3
   },
   "file_extension": ".py",
   "mimetype": "text/x-python",
   "name": "python",
   "nbconvert_exporter": "python",
   "pygments_lexer": "ipython3",
   "version": "3.7.6"
  }
 },
 "nbformat": 4,
 "nbformat_minor": 4
}
