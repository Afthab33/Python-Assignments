{
 "cells": [
  {
   "cell_type": "markdown",
   "metadata": {},
   "source": [
    "#1. Write a program in python to check whether a person is eligible for voting or not using if-else."
   ]
  },
  {
   "cell_type": "code",
   "execution_count": 3,
   "metadata": {},
   "outputs": [
    {
     "name": "stdout",
     "output_type": "stream",
     "text": [
      "Enter the age of person:23\n",
      "Person is eligible for voting\n"
     ]
    }
   ],
   "source": [
    "age=int(input(\"Enter the age of person:\"))\n",
    "if age>=18:\n",
    "    print(\"Person is eligible for voting\")\n",
    "else:\n",
    "    print(\"Person is not eligible for voting \")"
   ]
  },
  {
   "cell_type": "markdown",
   "metadata": {},
   "source": [
    "#2. Write a program to check whether a number is even or odd using if-else."
   ]
  },
  {
   "cell_type": "code",
   "execution_count": 6,
   "metadata": {},
   "outputs": [
    {
     "name": "stdout",
     "output_type": "stream",
     "text": [
      "Enter the value of Number:23\n",
      "Given number is Odd\n"
     ]
    }
   ],
   "source": [
    "num=int(input(\"Enter the value of Number:\"))\n",
    "if num%2==0:\n",
    "    print(\"Given number is Even\") \n",
    "else:\n",
    "    print(\"Given number is Odd\") "
   ]
  },
  {
   "cell_type": "markdown",
   "metadata": {},
   "source": [
    "#3. Write a python program to check whether a number is prime or not using if-else."
   ]
  },
  {
   "cell_type": "code",
   "execution_count": 26,
   "metadata": {},
   "outputs": [
    {
     "name": "stdout",
     "output_type": "stream",
     "text": [
      "Enter Number23\n",
      "23 is a prime number\n"
     ]
    }
   ],
   "source": [
    "num =int(input(\"Enter Number\"))\n",
    "if num > 1: \n",
    "   for i in range(2, num): \n",
    "       if (num % i) == 0: \n",
    "           print(num, \"is not a prime number\") \n",
    "           break\n",
    "   else: \n",
    "       print(num, \"is a prime number\") \n",
    " \n",
    "else: \n",
    "   print(num, \"is not a prime number\") \n",
    "  \n"
   ]
  },
  {
   "cell_type": "markdown",
   "metadata": {},
   "source": [
    "#4.Write a python program to check whether a number is positive or not using if-else."
   ]
  },
  {
   "cell_type": "code",
   "execution_count": 30,
   "metadata": {},
   "outputs": [
    {
     "name": "stdout",
     "output_type": "stream",
     "text": [
      "Enter the number-2\n",
      "It is not a positive number\n"
     ]
    }
   ],
   "source": [
    "num=int(input(\"Enter the number\"))\n",
    "if num>0:\n",
    "    print(\"It is a positive number\")\n",
    "else:\n",
    "    print(\"It is not a positive number\")"
   ]
  },
  {
   "cell_type": "markdown",
   "metadata": {},
   "source": [
    "#5.Write a python program to find the roots of a quadratic equation using elif. "
   ]
  },
  {
   "cell_type": "code",
   "execution_count": 1,
   "metadata": {},
   "outputs": [
    {
     "name": "stdout",
     "output_type": "stream",
     "text": [
      "enter the value of a:8\n",
      "enter the value of b:5\n",
      "enter the value of c:4\n",
      "the roots are imaginary\n",
      "-0.3125 +i (3.8840023656511745e-17+0.6343057228182637j) and -0.3125 -i (3.8840023656511745e-17+0.6343057228182637j) are the roots of quadratic equation\n"
     ]
    }
   ],
   "source": [
    "a=float(input(\"enter the value of a:\"))\n",
    "b=float(input(\"enter the value of b:\"))\n",
    "c=float(input(\"enter the value of c:\"))\n",
    "if(a==0):\n",
    "\tprint(\"it is not a quadratic equation\")\n",
    "else:\n",
    "\td=((b*b)-(4*a*c))\n",
    "\tif(d==0):\n",
    "\t\tprint(\"the roots are real and equal\")\n",
    "\t\tx=(-b/(2*a))\n",
    "\t\ty=x\n",
    "\t\tprint(x,\"and\",y,\"are the roots of the quadratic equation\")\n",
    "\telif(d>0):\n",
    "\t\tprint(\"the roots are real and distinct\")\n",
    "\t\te=pow(d,0.5)\n",
    "\t\tx=((-b+e)/(2*a))\n",
    "\t\ty=((-b-e)/(2*a))\n",
    "\t\tprint(x,\"and\",y,\"are the roots of quadratic equation\")\n",
    "\telse:\n",
    "\t\tprint(\"the roots are imaginary\")\n",
    "\t\te=pow(d,0.5)\n",
    "\t\tx=(-b/(2*a))\n",
    "\t\ty=(e/(2*a))\n",
    "\t\tprint(x,\"+i\",y,\"and\",x,\"-i\",y,\"are the roots of quadratic equation\")"
   ]
  },
  {
   "cell_type": "markdown",
   "metadata": {},
   "source": [
    "#6.Write  a program using nested-if to check whether a number is positive or negative or zero."
   ]
  },
  {
   "cell_type": "code",
   "execution_count": 2,
   "metadata": {},
   "outputs": [
    {
     "name": "stdout",
     "output_type": "stream",
     "text": [
      "Enter a number: 5\n",
      "Positive number\n"
     ]
    }
   ],
   "source": [
    "num = float(input(\"Enter a number: \"))\n",
    "if num >= 0:\n",
    "   if num == 0:\n",
    "       print(\"Zero\")\n",
    "   else:\n",
    "       print(\"Positive number\")\n",
    "else:\n",
    "   print(\"Negative number\")"
   ]
  },
  {
   "cell_type": "markdown",
   "metadata": {},
   "source": [
    "#7. Write a program to accept a number(1-5) and print the given number in words using nested-if."
   ]
  },
  {
   "cell_type": "code",
   "execution_count": 3,
   "metadata": {},
   "outputs": [
    {
     "name": "stdout",
     "output_type": "stream",
     "text": [
      "enter the number:3\n",
      "three\n"
     ]
    }
   ],
   "source": [
    "n=int(input(\"enter the number:\"))\n",
    "if((n==1)|(n==2)|(n==3)|(n==4)|(n==5)):\n",
    "\tif(0<n<6):\n",
    "\t\tif(n==1):\n",
    "\t\t\tprint(\"one\")\n",
    "\t\tif(n==2):\n",
    "\t\t\tprint(\"two\")\n",
    "\t\tif(n==3):\n",
    "\t\t\tprint(\"three\")\n",
    "\t\tif(n==4):\n",
    "\t\t\tprint(\"four\")\n",
    "\t\tif(n==5):\n",
    "\t\t\tprint(\"five\")\n",
    "if(n<0 or n>5):\n",
    "\tprint(\"reject the number\")"
   ]
  },
  {
   "cell_type": "markdown",
   "metadata": {},
   "source": [
    "#8. Write a program to read a character and print the given character is vowel or consonant."
   ]
  },
  {
   "cell_type": "code",
   "execution_count": 4,
   "metadata": {},
   "outputs": [
    {
     "name": "stdout",
     "output_type": "stream",
     "text": [
      "enter a character:f\n",
      "f is a consonant\n"
     ]
    }
   ],
   "source": [
    "ch=input(\"enter a character:\")\n",
    "if((ch=='a')|(ch=='A')|(ch=='e')|(ch=='E')|(ch=='i')|(ch=='I')|(ch=='o')|(ch=='O')|(ch=='u')|(ch=='U')):\n",
    "\tprint(ch,\"is a vowel\")\n",
    "else:\n",
    "\tprint(ch,\"is a consonant\")"
   ]
  }
 ],
 "metadata": {
  "kernelspec": {
   "display_name": "Python 3",
   "language": "python",
   "name": "python3"
  },
  "language_info": {
   "codemirror_mode": {
    "name": "ipython",
    "version": 3
   },
   "file_extension": ".py",
   "mimetype": "text/x-python",
   "name": "python",
   "nbconvert_exporter": "python",
   "pygments_lexer": "ipython3",
   "version": "3.7.6"
  }
 },
 "nbformat": 4,
 "nbformat_minor": 4
}
